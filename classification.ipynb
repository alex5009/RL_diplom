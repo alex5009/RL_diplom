{
 "cells": [
  {
   "cell_type": "code",
   "execution_count": 6,
   "id": "4105aad0",
   "metadata": {},
   "outputs": [
    {
     "name": "stdout",
     "output_type": "stream",
     "text": [
      "Collecting alpaca-py\n",
      "  Downloading alpaca_py-0.8.2-py3-none-any.whl (96 kB)\n",
      "Collecting websockets<11.0,>=10.2\n",
      "  Downloading websockets-10.4-cp37-cp37m-win_amd64.whl (101 kB)\n",
      "Collecting pydantic<2.0.0,>=1.9.0\n",
      "  Downloading pydantic-1.10.8-cp37-cp37m-win_amd64.whl (2.1 MB)\n",
      "Requirement already satisfied: pandas<2.0.0,>=1.3.5 in c:\\users\\gurki\\anaconda3\\lib\\site-packages (from alpaca-py) (1.3.5)\n",
      "Collecting msgpack<2.0.0,>=1.0.3\n",
      "  Downloading msgpack-1.0.5-cp37-cp37m-win_amd64.whl (62 kB)\n",
      "Requirement already satisfied: requests<3.0.0,>=2.27.1 in c:\\users\\gurki\\anaconda3\\lib\\site-packages (from alpaca-py) (2.27.1)\n",
      "Collecting sseclient-py<2.0.0,>=1.7.2\n",
      "  Downloading sseclient_py-1.7.2-py2.py3-none-any.whl (8.4 kB)\n",
      "Requirement already satisfied: python-dateutil>=2.7.3 in c:\\users\\gurki\\anaconda3\\lib\\site-packages (from pandas<2.0.0,>=1.3.5->alpaca-py) (2.8.2)\n",
      "Requirement already satisfied: pytz>=2017.3 in c:\\users\\gurki\\anaconda3\\lib\\site-packages (from pandas<2.0.0,>=1.3.5->alpaca-py) (2021.3)\n",
      "Requirement already satisfied: numpy>=1.17.3 in c:\\users\\gurki\\anaconda3\\lib\\site-packages (from pandas<2.0.0,>=1.3.5->alpaca-py) (1.21.6)\n",
      "Requirement already satisfied: typing-extensions>=4.2.0 in c:\\users\\gurki\\anaconda3\\lib\\site-packages (from pydantic<2.0.0,>=1.9.0->alpaca-py) (4.4.0)\n",
      "Requirement already satisfied: six>=1.5 in c:\\users\\gurki\\anaconda3\\lib\\site-packages (from python-dateutil>=2.7.3->pandas<2.0.0,>=1.3.5->alpaca-py) (1.16.0)\n",
      "Requirement already satisfied: urllib3<1.27,>=1.21.1 in c:\\users\\gurki\\anaconda3\\lib\\site-packages (from requests<3.0.0,>=2.27.1->alpaca-py) (1.26.9)\n",
      "Requirement already satisfied: idna<4,>=2.5 in c:\\users\\gurki\\anaconda3\\lib\\site-packages (from requests<3.0.0,>=2.27.1->alpaca-py) (3.3)\n",
      "Requirement already satisfied: charset-normalizer~=2.0.0 in c:\\users\\gurki\\anaconda3\\lib\\site-packages (from requests<3.0.0,>=2.27.1->alpaca-py) (2.0.4)\n",
      "Requirement already satisfied: certifi>=2017.4.17 in c:\\users\\gurki\\anaconda3\\lib\\site-packages (from requests<3.0.0,>=2.27.1->alpaca-py) (2021.10.8)\n",
      "Installing collected packages: websockets, sseclient-py, pydantic, msgpack, alpaca-py\n",
      "  Attempting uninstall: msgpack\n",
      "    Found existing installation: msgpack 1.0.2\n",
      "    Uninstalling msgpack-1.0.2:\n",
      "      Successfully uninstalled msgpack-1.0.2\n",
      "Successfully installed alpaca-py-0.8.2 msgpack-1.0.5 pydantic-1.10.8 sseclient-py-1.7.2 websockets-10.4\n"
     ]
    }
   ],
   "source": [
    "!pip install alpaca-py"
   ]
  },
  {
   "cell_type": "code",
   "execution_count": 17,
   "id": "ed0b007d",
   "metadata": {},
   "outputs": [],
   "source": [
    "import pandas as pd\n",
    "import numpy as np\n",
    "from alpaca.data import TimeFrame, StockHistoricalDataClient\n",
    "from alpaca.data.requests import StockBarsRequest\n",
    "key = 'PK2K9D3EBSR2WGWTA5NM'\n",
    "secret = 'CWjVKR6LeIw4va1HoM3e3zXPBCry9OupSgfOuKWN'\n",
    "\n",
    "api = client = StockHistoricalDataClient(key, secret)\n",
    "request_params = StockBarsRequest(\n",
    "                        symbol_or_symbols=['AAPL'],\n",
    "                        timeframe=TimeFrame.Day,\n",
    "                        start=\"2018-01-01 00:00:00\"\n",
    "                 )\n",
    "bars = api.get_stock_bars(request_params)"
   ]
  },
  {
   "cell_type": "code",
   "execution_count": 10,
   "id": "62fcf775",
   "metadata": {},
   "outputs": [],
   "source": [
    "df = bars.df[['open', 'high', 'low', 'close', 'volume']]"
   ]
  },
  {
   "cell_type": "code",
   "execution_count": 337,
   "id": "29bcc3c4",
   "metadata": {},
   "outputs": [],
   "source": [
    "simbols = pd.read_csv('symbols_pnd.csv')\n",
    "pump_data = pd.read_csv('pump_data.csv')"
   ]
  },
  {
   "cell_type": "code",
   "execution_count": 351,
   "id": "9c9d9be7",
   "metadata": {},
   "outputs": [
    {
     "data": {
      "text/html": [
       "<div>\n",
       "<style scoped>\n",
       "    .dataframe tbody tr th:only-of-type {\n",
       "        vertical-align: middle;\n",
       "    }\n",
       "\n",
       "    .dataframe tbody tr th {\n",
       "        vertical-align: top;\n",
       "    }\n",
       "\n",
       "    .dataframe thead th {\n",
       "        text-align: right;\n",
       "    }\n",
       "</style>\n",
       "<table border=\"1\" class=\"dataframe\">\n",
       "  <thead>\n",
       "    <tr style=\"text-align: right;\">\n",
       "      <th></th>\n",
       "      <th>symbol</th>\n",
       "      <th>date</th>\n",
       "      <th>valid</th>\n",
       "    </tr>\n",
       "  </thead>\n",
       "  <tbody>\n",
       "    <tr>\n",
       "      <th>0</th>\n",
       "      <td>AAME</td>\n",
       "      <td>2017-05-12</td>\n",
       "      <td>0</td>\n",
       "    </tr>\n",
       "    <tr>\n",
       "      <th>1</th>\n",
       "      <td>AACG</td>\n",
       "      <td>2020-07-05</td>\n",
       "      <td>0</td>\n",
       "    </tr>\n",
       "    <tr>\n",
       "      <th>2</th>\n",
       "      <td>MWA</td>\n",
       "      <td>2019-10-20</td>\n",
       "      <td>0</td>\n",
       "    </tr>\n",
       "    <tr>\n",
       "      <th>3</th>\n",
       "      <td>ACRS</td>\n",
       "      <td>2021-06-12</td>\n",
       "      <td>0</td>\n",
       "    </tr>\n",
       "    <tr>\n",
       "      <th>4</th>\n",
       "      <td>BKYI</td>\n",
       "      <td>2020-02-13</td>\n",
       "      <td>0</td>\n",
       "    </tr>\n",
       "  </tbody>\n",
       "</table>\n",
       "</div>"
      ],
      "text/plain": [
       "  symbol        date  valid\n",
       "0   AAME  2017-05-12      0\n",
       "1   AACG  2020-07-05      0\n",
       "2    MWA  2019-10-20      0\n",
       "3   ACRS  2021-06-12      0\n",
       "4   BKYI  2020-02-13      0"
      ]
     },
     "execution_count": 351,
     "metadata": {},
     "output_type": "execute_result"
    }
   ],
   "source": [
    "pump_data.head()"
   ]
  },
  {
   "cell_type": "code",
   "execution_count": 352,
   "id": "3927179d",
   "metadata": {},
   "outputs": [
    {
     "data": {
      "text/html": [
       "<div>\n",
       "<style scoped>\n",
       "    .dataframe tbody tr th:only-of-type {\n",
       "        vertical-align: middle;\n",
       "    }\n",
       "\n",
       "    .dataframe tbody tr th {\n",
       "        vertical-align: top;\n",
       "    }\n",
       "\n",
       "    .dataframe thead th {\n",
       "        text-align: right;\n",
       "    }\n",
       "</style>\n",
       "<table border=\"1\" class=\"dataframe\">\n",
       "  <thead>\n",
       "    <tr style=\"text-align: right;\">\n",
       "      <th></th>\n",
       "      <th>symbol</th>\n",
       "      <th>date</th>\n",
       "      <th>valid</th>\n",
       "    </tr>\n",
       "  </thead>\n",
       "  <tbody>\n",
       "    <tr>\n",
       "      <th>2343</th>\n",
       "      <td>JOAN</td>\n",
       "      <td>2021-03-09</td>\n",
       "      <td>1</td>\n",
       "    </tr>\n",
       "    <tr>\n",
       "      <th>2344</th>\n",
       "      <td>PEY</td>\n",
       "      <td>2019-09-12</td>\n",
       "      <td>1</td>\n",
       "    </tr>\n",
       "    <tr>\n",
       "      <th>2345</th>\n",
       "      <td>DNOW</td>\n",
       "      <td>2021-04-25</td>\n",
       "      <td>1</td>\n",
       "    </tr>\n",
       "    <tr>\n",
       "      <th>2346</th>\n",
       "      <td>BCYP</td>\n",
       "      <td>2018-07-21</td>\n",
       "      <td>1</td>\n",
       "    </tr>\n",
       "    <tr>\n",
       "      <th>2347</th>\n",
       "      <td>SVAC</td>\n",
       "      <td>2019-12-10</td>\n",
       "      <td>1</td>\n",
       "    </tr>\n",
       "  </tbody>\n",
       "</table>\n",
       "</div>"
      ],
      "text/plain": [
       "     symbol        date  valid\n",
       "2343   JOAN  2021-03-09      1\n",
       "2344    PEY  2019-09-12      1\n",
       "2345   DNOW  2021-04-25      1\n",
       "2346   BCYP  2018-07-21      1\n",
       "2347   SVAC  2019-12-10      1"
      ]
     },
     "execution_count": 352,
     "metadata": {},
     "output_type": "execute_result"
    }
   ],
   "source": [
    "pump_data.tail()"
   ]
  },
  {
   "cell_type": "code",
   "execution_count": 353,
   "id": "9abd0ab0",
   "metadata": {},
   "outputs": [],
   "source": [
    "simb = simbols['0'].values"
   ]
  },
  {
   "cell_type": "code",
   "execution_count": 367,
   "id": "1313fdc2",
   "metadata": {},
   "outputs": [],
   "source": [
    "import datetime \n",
    "\n",
    "target_data = pd.DataFrame()\n",
    "for r in pump_data:\n",
    "    r = r[1]\n",
    "    request_params = StockBarsRequest(\n",
    "                            symbol_or_symbols=list(simb),\n",
    "                            timeframe=TimeFrame.Day,\n",
    "                            start=datetime.datetime(r['date']) - datetime.timedelta(day=22),\n",
    "                            end=datetime.datetime(r['date']) - datetime.timedelta(day=1)\n",
    "                        \n",
    "                     )\n",
    "    bars = api.get_stock_bars(request_params)\n",
    "    df = bars.df.reset_index(level=0)\n",
    "    target_data = pd.concat([target_data, df], axis=0)\n",
    "    \n",
    "before_data = pd.DataFrame()\n",
    "for r in pump_data:\n",
    "    r = r[1]\n",
    "    request_params = StockBarsRequest(\n",
    "                            symbol_or_symbols=list(r['symbol']),\n",
    "                            timeframe=TimeFrame.Day,\n",
    "                            start=datetime.datetime(r['date']) - datetime.timedelta(day=23),\n",
    "                            end=datetime.datetime(r['date']) - datetime.timedelta(day=2)\n",
    "                        \n",
    "                     )\n",
    "    bars = api.get_stock_bars(request_params)\n",
    "    df = bars.df.reset_index(level=0)\n",
    "    before_data = pd.concat([before_data, df], axis=0)\n",
    "    \n",
    "\n",
    "request_params = StockBarsRequest(\n",
    "                        symbol_or_symbols=list(symb),\n",
    "                        timeframe=TimeFrame.Day,\n",
    "                        start='2022-01-01'\n",
    "                 )\n",
    "bars = api.get_stock_bars(request_params)\n",
    "df = bars.df.reset_index(level=0)"
   ]
  },
  {
   "cell_type": "code",
   "execution_count": 394,
   "id": "095ab97c",
   "metadata": {
    "scrolled": true
   },
   "outputs": [],
   "source": [
    "def res_data(data):\n",
    "    data = bars.df[['open', 'high', 'low', 'close', 'volume']]\n",
    "    data = data.groupby('symbol').apply(lambda x: x.diff()).dropna()\n",
    "    data_reshaped = data.groupby('symbol').apply(reshape_data)\n",
    "    return data_reshaped"
   ]
  },
  {
   "cell_type": "code",
   "execution_count": 402,
   "id": "3fb35cc2",
   "metadata": {},
   "outputs": [
    {
     "name": "stdout",
     "output_type": "stream",
     "text": [
      "(25734, 102)\n"
     ]
    },
    {
     "data": {
      "text/html": [
       "<div>\n",
       "<style scoped>\n",
       "    .dataframe tbody tr th:only-of-type {\n",
       "        vertical-align: middle;\n",
       "    }\n",
       "\n",
       "    .dataframe tbody tr th {\n",
       "        vertical-align: top;\n",
       "    }\n",
       "\n",
       "    .dataframe thead th {\n",
       "        text-align: right;\n",
       "    }\n",
       "</style>\n",
       "<table border=\"1\" class=\"dataframe\">\n",
       "  <thead>\n",
       "    <tr style=\"text-align: right;\">\n",
       "      <th></th>\n",
       "      <th>open_0</th>\n",
       "      <th>open_1</th>\n",
       "      <th>open_2</th>\n",
       "      <th>open_3</th>\n",
       "      <th>open_4</th>\n",
       "      <th>open_5</th>\n",
       "      <th>open_6</th>\n",
       "      <th>open_7</th>\n",
       "      <th>open_8</th>\n",
       "      <th>open_9</th>\n",
       "      <th>...</th>\n",
       "      <th>volume_12</th>\n",
       "      <th>volume_13</th>\n",
       "      <th>volume_14</th>\n",
       "      <th>volume_15</th>\n",
       "      <th>volume_16</th>\n",
       "      <th>volume_17</th>\n",
       "      <th>volume_18</th>\n",
       "      <th>volume_19</th>\n",
       "      <th>target</th>\n",
       "      <th>valid</th>\n",
       "    </tr>\n",
       "  </thead>\n",
       "  <tbody>\n",
       "    <tr>\n",
       "      <th>0</th>\n",
       "      <td>-0.06</td>\n",
       "      <td>0.02</td>\n",
       "      <td>0.08</td>\n",
       "      <td>0.04</td>\n",
       "      <td>0.06</td>\n",
       "      <td>-0.0700</td>\n",
       "      <td>0.0600</td>\n",
       "      <td>0.0900</td>\n",
       "      <td>0.0700</td>\n",
       "      <td>-0.0738</td>\n",
       "      <td>...</td>\n",
       "      <td>-33256.0</td>\n",
       "      <td>1026540.0</td>\n",
       "      <td>-1009825.0</td>\n",
       "      <td>-2398.0</td>\n",
       "      <td>43804.0</td>\n",
       "      <td>-57586.0</td>\n",
       "      <td>-5155.0</td>\n",
       "      <td>4251.0</td>\n",
       "      <td>0.0</td>\n",
       "      <td>-1</td>\n",
       "    </tr>\n",
       "    <tr>\n",
       "      <th>1</th>\n",
       "      <td>0.02</td>\n",
       "      <td>0.08</td>\n",
       "      <td>0.04</td>\n",
       "      <td>0.06</td>\n",
       "      <td>-0.07</td>\n",
       "      <td>0.0600</td>\n",
       "      <td>0.0900</td>\n",
       "      <td>0.0700</td>\n",
       "      <td>-0.0738</td>\n",
       "      <td>-0.0262</td>\n",
       "      <td>...</td>\n",
       "      <td>1026540.0</td>\n",
       "      <td>-1009825.0</td>\n",
       "      <td>-2398.0</td>\n",
       "      <td>43804.0</td>\n",
       "      <td>-57586.0</td>\n",
       "      <td>-5155.0</td>\n",
       "      <td>4251.0</td>\n",
       "      <td>7793.0</td>\n",
       "      <td>0.0</td>\n",
       "      <td>-1</td>\n",
       "    </tr>\n",
       "    <tr>\n",
       "      <th>2</th>\n",
       "      <td>0.08</td>\n",
       "      <td>0.04</td>\n",
       "      <td>0.06</td>\n",
       "      <td>-0.07</td>\n",
       "      <td>0.06</td>\n",
       "      <td>0.0900</td>\n",
       "      <td>0.0700</td>\n",
       "      <td>-0.0738</td>\n",
       "      <td>-0.0262</td>\n",
       "      <td>0.0100</td>\n",
       "      <td>...</td>\n",
       "      <td>-1009825.0</td>\n",
       "      <td>-2398.0</td>\n",
       "      <td>43804.0</td>\n",
       "      <td>-57586.0</td>\n",
       "      <td>-5155.0</td>\n",
       "      <td>4251.0</td>\n",
       "      <td>7793.0</td>\n",
       "      <td>2200398.0</td>\n",
       "      <td>0.0</td>\n",
       "      <td>-1</td>\n",
       "    </tr>\n",
       "    <tr>\n",
       "      <th>3</th>\n",
       "      <td>0.04</td>\n",
       "      <td>0.06</td>\n",
       "      <td>-0.07</td>\n",
       "      <td>0.06</td>\n",
       "      <td>0.09</td>\n",
       "      <td>0.0700</td>\n",
       "      <td>-0.0738</td>\n",
       "      <td>-0.0262</td>\n",
       "      <td>0.0100</td>\n",
       "      <td>-0.1300</td>\n",
       "      <td>...</td>\n",
       "      <td>-2398.0</td>\n",
       "      <td>43804.0</td>\n",
       "      <td>-57586.0</td>\n",
       "      <td>-5155.0</td>\n",
       "      <td>4251.0</td>\n",
       "      <td>7793.0</td>\n",
       "      <td>2200398.0</td>\n",
       "      <td>-2213050.0</td>\n",
       "      <td>0.0</td>\n",
       "      <td>-1</td>\n",
       "    </tr>\n",
       "    <tr>\n",
       "      <th>4</th>\n",
       "      <td>0.06</td>\n",
       "      <td>-0.07</td>\n",
       "      <td>0.06</td>\n",
       "      <td>0.09</td>\n",
       "      <td>0.07</td>\n",
       "      <td>-0.0738</td>\n",
       "      <td>-0.0262</td>\n",
       "      <td>0.0100</td>\n",
       "      <td>-0.1300</td>\n",
       "      <td>0.0700</td>\n",
       "      <td>...</td>\n",
       "      <td>43804.0</td>\n",
       "      <td>-57586.0</td>\n",
       "      <td>-5155.0</td>\n",
       "      <td>4251.0</td>\n",
       "      <td>7793.0</td>\n",
       "      <td>2200398.0</td>\n",
       "      <td>-2213050.0</td>\n",
       "      <td>16372.0</td>\n",
       "      <td>0.0</td>\n",
       "      <td>-1</td>\n",
       "    </tr>\n",
       "  </tbody>\n",
       "</table>\n",
       "<p>5 rows × 102 columns</p>\n",
       "</div>"
      ],
      "text/plain": [
       "   open_0  open_1  open_2  open_3  open_4  open_5  open_6  open_7  open_8  \\\n",
       "0   -0.06    0.02    0.08    0.04    0.06 -0.0700  0.0600  0.0900  0.0700   \n",
       "1    0.02    0.08    0.04    0.06   -0.07  0.0600  0.0900  0.0700 -0.0738   \n",
       "2    0.08    0.04    0.06   -0.07    0.06  0.0900  0.0700 -0.0738 -0.0262   \n",
       "3    0.04    0.06   -0.07    0.06    0.09  0.0700 -0.0738 -0.0262  0.0100   \n",
       "4    0.06   -0.07    0.06    0.09    0.07 -0.0738 -0.0262  0.0100 -0.1300   \n",
       "\n",
       "   open_9  ...  volume_12  volume_13  volume_14  volume_15  volume_16  \\\n",
       "0 -0.0738  ...   -33256.0  1026540.0 -1009825.0    -2398.0    43804.0   \n",
       "1 -0.0262  ...  1026540.0 -1009825.0    -2398.0    43804.0   -57586.0   \n",
       "2  0.0100  ... -1009825.0    -2398.0    43804.0   -57586.0    -5155.0   \n",
       "3 -0.1300  ...    -2398.0    43804.0   -57586.0    -5155.0     4251.0   \n",
       "4  0.0700  ...    43804.0   -57586.0    -5155.0     4251.0     7793.0   \n",
       "\n",
       "   volume_17  volume_18  volume_19  target  valid  \n",
       "0   -57586.0    -5155.0     4251.0     0.0     -1  \n",
       "1    -5155.0     4251.0     7793.0     0.0     -1  \n",
       "2     4251.0     7793.0  2200398.0     0.0     -1  \n",
       "3     7793.0  2200398.0 -2213050.0     0.0     -1  \n",
       "4  2200398.0 -2213050.0    16372.0     0.0     -1  \n",
       "\n",
       "[5 rows x 102 columns]"
      ]
     },
     "execution_count": 402,
     "metadata": {},
     "output_type": "execute_result"
    }
   ],
   "source": [
    "target_data_reshaped = res_data(target_data)\n",
    "target_data_reshaped['target'] = 1\n",
    "target_data_reshaped = target_data_reshaped.merge(pump_data[['symbol', 'valid']], on='symbol')\n",
    "before_data_reshaped = res_data(before_data)\n",
    "before_data_reshaped['target'] = 0\n",
    "df_reshaped = res_data(df)\n",
    "df_reshaped['target'] = 0\n",
    "\n",
    "data_reshaped = pd.concat([df_reshaped, before_data_reshaped, target_data_reshaped], axis=0)\n",
    "data_reshaped['valid'].fillna(-1, inplace=True)\n",
    "price_data = data_reshaped.index()\n",
    "data_reshaped.reset_index(drop=True, inplace=True)\n",
    "data_reshaped = data_reshaped.dropna()\n",
    "print(data_reshaped.shape)\n",
    "data_reshaped.head()"
   ]
  },
  {
   "cell_type": "code",
   "execution_count": 416,
   "id": "f066422d",
   "metadata": {},
   "outputs": [],
   "source": [
    "from sklearn.model_selection import train_test_split\n",
    "from sklearn.metrics import roc_auc_score, roc_curve, confusion_matrix\n",
    "from xgboost import XGBClassifier\n",
    "from sklearn.preprocessing import StandardScaler\n",
    "\n",
    "validate = data_reshaped[data_reshaped['valid'] == 1]\n",
    "data_reshaped.drop('valid', axis=1)\n",
    "\n",
    "X = data_reshaped[data_reshaped['valid'] != 1].drop(['target', 'valid'], axis=1)\n",
    "y = data_reshaped[data_reshaped['valid'] != 1]['target']\n",
    "X_train, X_test, y_train, y_test = train_test_split(X, y, test_size=0.3)\n",
    "\n",
    "\n",
    "scaler = StandardScaler()\n",
    "v = X_train[[i for i in X_train.columns if 'volume' in i]]\n",
    "X_train[[i for i in X_train.columns if 'volume' in i]] = scaler.fit_transform(v)\n",
    "X_test[[i for i in X_test.columns if 'volume' in i]] = scaler.transform(X_test[[i for i in X_test.columns if 'volume' in i]])\n",
    "validate[[i for i in validate.columns if 'volume' in i]] = scaler.transform(validate[[i for i in validate.columns if 'volume' in i]])"
   ]
  },
  {
   "cell_type": "code",
   "execution_count": 420,
   "id": "0d090222",
   "metadata": {},
   "outputs": [
    {
     "data": {
      "text/plain": [
       "0.6503742417395917"
      ]
     },
     "execution_count": 420,
     "metadata": {},
     "output_type": "execute_result"
    }
   ],
   "source": [
    "from sklearn.linear_model import LogisticRegression\n",
    "from sklearn.metrics import log_loss\n",
    "\n",
    "model = LogisticRegression(max_iter=1000)\n",
    "model.fit(X_train, y_train)\n",
    "\n",
    "pred = model.predict_proba(X_test)[:,1]\n",
    "roc_auc_score(y_test, pred)"
   ]
  },
  {
   "cell_type": "code",
   "execution_count": 422,
   "id": "401b92ae",
   "metadata": {},
   "outputs": [
    {
     "data": {
      "text/plain": [
       "0.449786854869675"
      ]
     },
     "execution_count": 422,
     "metadata": {},
     "output_type": "execute_result"
    }
   ],
   "source": [
    "log_loss(y_test, pred)"
   ]
  },
  {
   "cell_type": "code",
   "execution_count": 432,
   "id": "74e836bd",
   "metadata": {},
   "outputs": [
    {
     "data": {
      "text/plain": [
       "0.801262470747629"
      ]
     },
     "execution_count": 432,
     "metadata": {},
     "output_type": "execute_result"
    }
   ],
   "source": [
    "from lightgbm import LGBMClassifier\n",
    "\n",
    "model = LGBMClassifier(n_estimators=500, class_weight={0:0.2, 1:0.8})\n",
    "model.fit(X_train, y_train)\n",
    "\n",
    "pred = model.predict_proba(X_test)[:,1]\n",
    "roc_auc_score(y_test, pred)"
   ]
  },
  {
   "cell_type": "code",
   "execution_count": 433,
   "id": "90128c80",
   "metadata": {},
   "outputs": [
    {
     "data": {
      "text/plain": [
       "0.351495697065058"
      ]
     },
     "execution_count": 433,
     "metadata": {},
     "output_type": "execute_result"
    }
   ],
   "source": [
    "log_loss(y_test, pred)"
   ]
  },
  {
   "cell_type": "code",
   "execution_count": 441,
   "id": "c74456b0",
   "metadata": {},
   "outputs": [
    {
     "ename": "NameError",
     "evalue": "name 'y_testt' is not defined",
     "output_type": "error",
     "traceback": [
      "\u001b[1;31m---------------------------------------------------------------------------\u001b[0m",
      "\u001b[1;31mNameError\u001b[0m                                 Traceback (most recent call last)",
      "\u001b[1;32m~\\AppData\\Local\\Temp\\ipykernel_6724\\3039541524.py\u001b[0m in \u001b[0;36m<module>\u001b[1;34m\u001b[0m\n\u001b[0;32m      3\u001b[0m \u001b[1;32mimport\u001b[0m \u001b[0mseaborn\u001b[0m \u001b[1;32mas\u001b[0m \u001b[0msns\u001b[0m\u001b[1;33m\u001b[0m\u001b[1;33m\u001b[0m\u001b[0m\n\u001b[0;32m      4\u001b[0m \u001b[1;33m\u001b[0m\u001b[0m\n\u001b[1;32m----> 5\u001b[1;33m \u001b[0mprecision\u001b[0m\u001b[1;33m,\u001b[0m \u001b[0mrecall\u001b[0m\u001b[1;33m,\u001b[0m \u001b[0mthresholds\u001b[0m \u001b[1;33m=\u001b[0m \u001b[0mprecision_recall_curve\u001b[0m\u001b[1;33m(\u001b[0m\u001b[0my_testt\u001b[0m\u001b[1;33m,\u001b[0m \u001b[0mpred\u001b[0m\u001b[1;33m)\u001b[0m\u001b[1;33m\u001b[0m\u001b[1;33m\u001b[0m\u001b[0m\n\u001b[0m\u001b[0;32m      6\u001b[0m \u001b[0mbeta\u001b[0m \u001b[1;33m=\u001b[0m \u001b[1;36m0.5\u001b[0m\u001b[1;33m\u001b[0m\u001b[1;33m\u001b[0m\u001b[0m\n\u001b[0;32m      7\u001b[0m \u001b[0mfscore\u001b[0m \u001b[1;33m=\u001b[0m \u001b[1;33m(\u001b[0m\u001b[1;36m1\u001b[0m \u001b[1;33m+\u001b[0m \u001b[0mbeta\u001b[0m \u001b[1;33m**\u001b[0m \u001b[1;36m2\u001b[0m\u001b[1;33m)\u001b[0m \u001b[1;33m*\u001b[0m \u001b[1;33m(\u001b[0m\u001b[1;36m2\u001b[0m \u001b[1;33m*\u001b[0m \u001b[0mprecision\u001b[0m \u001b[1;33m*\u001b[0m \u001b[0mrecall\u001b[0m\u001b[1;33m)\u001b[0m \u001b[1;33m/\u001b[0m \u001b[1;33m(\u001b[0m\u001b[0mbeta\u001b[0m \u001b[1;33m**\u001b[0m \u001b[1;36m2\u001b[0m \u001b[1;33m*\u001b[0m \u001b[0mprecision\u001b[0m \u001b[1;33m+\u001b[0m \u001b[0mrecall\u001b[0m\u001b[1;33m)\u001b[0m\u001b[1;33m\u001b[0m\u001b[1;33m\u001b[0m\u001b[0m\n",
      "\u001b[1;31mNameError\u001b[0m: name 'y_testt' is not defined"
     ]
    }
   ],
   "source": [
    "from sklearn.metrics import precision_recall_curve\n",
    "from sklearn.metrics import PrecisionRecallDisplay\n",
    "import seaborn as sns\n",
    "\n",
    "precision, recall, thresholds = precision_recall_curve(y_testt, pred)\n",
    "beta = 0.5\n",
    "fscore = (1 + beta ** 2) * (2 * precision * recall) / (beta ** 2 * precision + recall)\n",
    "# locate the index of the largest f score\n",
    "ix = np.argmax(fscore)\n",
    "print('Best Threshold=%f, F-Score=%.3f' % (thresholds[ix], fscore[ix]))\n",
    "\n",
    "\n",
    "sns.set(rc={\"figure.figsize\":(14,8)})\n",
    "display = PrecisionRecallDisplay.from_estimator(\n",
    "    model, X_test, y_test, name=\"LightGBM\"\n",
    ")\n",
    "plt.scatter(recall[ix], precision[ix], marker='o', color='black', label=f'Порог отсечения {round(thresholds[ix],2)}')\n",
    "_ = display.ax_.set_title(\"Кривая Precision-Recall\")"
   ]
  },
  {
   "cell_type": "code",
   "execution_count": 442,
   "id": "4e9e52cc",
   "metadata": {},
   "outputs": [
    {
     "data": {
      "image/png": "[encoded data removed]",
      "text/plain": [
       "<Figure size 432x432 with 2 Axes>"
      ]
     },
     "metadata": {
      "needs_background": "light"
     },
     "output_type": "display_data"
    }
   ],
   "source": [
    "from sklearn.metrics import roc_auc_score, roc_curve, confusion_matrix, precision_score\n",
    "import itertools\n",
    "import matplotlib.pyplot as plt\n",
    "import numpy as np\n",
    "\n",
    "def plot_confusion_matrix(cm, classes,\n",
    "                          normalize=False,\n",
    "                          title='Confusion matrix',\n",
    "                          cmap=plt.cm.Blues):\n",
    "    plt.figure(figsize=(6, 6))\n",
    "    plt.imshow(cm, interpolation='nearest', cmap=cmap)\n",
    "    plt.title(title)\n",
    "    plt.colorbar()\n",
    "    tick_marks = np.arange(len(classes))\n",
    "    plt.xticks(tick_marks, classes, rotation=45)\n",
    "    plt.yticks(tick_marks, classes)\n",
    "\n",
    "    thresh = cm.max() / 2.\n",
    "    for i, j in itertools.product(range(cm.shape[0]), range(cm.shape[1])):\n",
    "        plt.text(j, i, cm[i, j],\n",
    "                 horizontalalignment=\"center\",\n",
    "                 color=\"white\" if cm[i, j] > thresh else \"black\")\n",
    "\n",
    "    plt.tight_layout()\n",
    "    plt.ylabel('Истинное значение')\n",
    "    plt.xlabel('Предсказанное значение')\n",
    "#     plt.savefig(f'img/test_n_days/{title}.png')\n",
    "\n",
    "\n",
    "\n",
    "def show(y_test, y_pred_proba, threshold):\n",
    "    data_threshold = (y_pred_proba > threshold)    \n",
    "    cm = confusion_matrix(y_test, data_threshold)\n",
    "    minus_recall = round(cm[0][0] / cm.sum(axis=0)[0], 2)\n",
    "    plot_confusion_matrix(cm, classes=['Не Pump and Dump', 'Pump and Dump'], title=f'')\n",
    "\n",
    "\n",
    "show(y_test, pred, 0.3)"
   ]
  },
  {
   "cell_type": "code",
   "execution_count": 443,
   "id": "0c0de614",
   "metadata": {},
   "outputs": [
    {
     "data": {
      "image/png": "[encoded data removed]",
      "text/plain": [
       "<Figure size 432x432 with 2 Axes>"
      ]
     },
     "metadata": {
      "needs_background": "light"
     },
     "output_type": "display_data"
    }
   ],
   "source": [
    "show(test_test_y, pred_val, 0.2)"
   ]
  },
  {
   "cell_type": "code",
   "execution_count": 444,
   "id": "2be861ca",
   "metadata": {},
   "outputs": [
    {
     "data": {
      "text/plain": [
       "0.9924050632911392"
      ]
     },
     "execution_count": 444,
     "metadata": {},
     "output_type": "execute_result"
    }
   ],
   "source": [
    "392/(392+3)"
   ]
  },
  {
   "cell_type": "code",
   "execution_count": null,
   "id": "47cf94eb",
   "metadata": {},
   "outputs": [],
   "source": []
  }
 ],
 "metadata": {
  "kernelspec": {
   "display_name": "Python 3 (ipykernel)",
   "language": "python",
   "name": "python3"
  },
  "language_info": {
   "codemirror_mode": {
    "name": "ipython",
    "version": 3
   },
   "file_extension": ".py",
   "mimetype": "text/x-python",
   "name": "python",
   "nbconvert_exporter": "python",
   "pygments_lexer": "ipython3",
   "version": "3.7.13"
  }
 },
 "nbformat": 4,
 "nbformat_minor": 5
}
